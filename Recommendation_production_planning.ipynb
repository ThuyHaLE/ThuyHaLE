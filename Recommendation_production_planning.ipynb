{
  "nbformat": 4,
  "nbformat_minor": 0,
  "metadata": {
    "colab": {
      "provenance": [],
      "collapsed_sections": [
        "VWmJskMvNLf_",
        "1ZBIgKRDEIaF",
        "Ff2RNPUlFW5i",
        "kIEHs_vkHAaw",
        "mTQ2d1FKHRjQ",
        "MiMzwTGaT5hW",
        "si7W3b6wVK_i",
        "IsPmhLzi0eXS",
        "Lz0C0yFiq6RZ",
        "x8QaNrggzgsl",
        "rqTzoWPNaf_b",
        "hh0yfOAY0ttL"
      ],
      "authorship_tag": "ABX9TyOBsOj8bzoK2MFfILE7+5wu",
      "include_colab_link": true
    },
    "kernelspec": {
      "name": "python3",
      "display_name": "Python 3"
    },
    "language_info": {
      "name": "python"
    }
  },
  "cells": [
    {
      "cell_type": "markdown",
      "metadata": {
        "id": "view-in-github",
        "colab_type": "text"
      },
      "source": [
        "<a href=\"https://colab.research.google.com/github/ThuyHaLE/ThuyHaLE/blob/main/Recommendation_production_planning.ipynb\" target=\"_parent\"><img src=\"https://colab.research.google.com/assets/colab-badge.svg\" alt=\"Open In Colab\"/></a>"
      ]
    },
    {
      "cell_type": "markdown",
      "source": [
        "**MY IDEA!**\n",
        "\n",
        "I have a process called Plastic injection molding. A manufacturing process for producing parts by injecting molten material into a mold. The input material will be plastic (granules or powders). The output will be plastic parts. And we will use these parts to assemble them into a product. \n",
        "\n",
        "Here, I only care about the molding process. \n",
        "\n",
        "I have 49 machines (with different tonnage and models) and 237 molds (each mold will suit a particular machine and can produce a total of 783 various plastic parts). I will receive the production orders (POs) with the desired delivery date. \n",
        "\n",
        "I created a database that includes:\n",
        "- Plastic information based on each plastic part/item (mold specification (name, code), capacity (psc/mold), optimized cycle time/shot (s), suitable machine tonnage list (the lowest tonnage will be a priority)).\n",
        "- Mold information based on each plastic part/item (plastic types and required quantity (kg) for producing each 10000 pcs).\n",
        "- Production report (total order list and order status).\n",
        "\n",
        "Then I will use the database and the orders as the input to recommend the next most suitable production plan. And my output will be as follow:\n",
        "- Production plan for each machine that includes an item list will be produced with an estimated lead time.\n",
        "- Mold plan for each machine that includes a mold list will be produced with an estimated lead time.\n",
        "- Plastic plan that includes a plastic type and quantity will be used for each machine/day."
      ],
      "metadata": {
        "id": "PFw1sbBHxyVe"
      }
    },
    {
      "cell_type": "markdown",
      "source": [
        "##IMPORT SOME LIBRARY"
      ],
      "metadata": {
        "id": "VWmJskMvNLf_"
      }
    },
    {
      "cell_type": "code",
      "source": [
        "import numpy as np\n",
        "import pandas as pd\n",
        "import datetime\n",
        "\n",
        "from datetime import timedelta\n",
        "from google.colab import drive\n",
        "drive.mount('/content/drive')"
      ],
      "metadata": {
        "colab": {
          "base_uri": "https://localhost:8080/"
        },
        "id": "88BjYfL7DrMy",
        "outputId": "652fcb3a-18fe-4916-e4f8-8f1e246e371c"
      },
      "execution_count": 2,
      "outputs": [
        {
          "output_type": "stream",
          "name": "stdout",
          "text": [
            "Drive already mounted at /content/drive; to attempt to forcibly remount, call drive.mount(\"/content/drive\", force_remount=True).\n"
          ]
        }
      ]
    },
    {
      "cell_type": "markdown",
      "source": [
        "## INPUT:\n",
        "* Production orders\n",
        "### DATABASE:\n",
        "* Plastic information based on each plastic part/item\n",
        "* Mold information based on each plastic part/item\n",
        "* Production report"
      ],
      "metadata": {
        "id": "1ZBIgKRDEIaF"
      }
    },
    {
      "cell_type": "code",
      "source": [
        "#Import data (production info)\n",
        "path ='/content/drive/MyDrive/Data science/Mine/Recommendation-Production Planning/DATABASE/PRO STATUS.xlsx'\n",
        "data = pd.read_excel(path)\n",
        "#Make sure that all values in PO NO. must be NOT null\n",
        "pro_data = data[data['PO NO.'].notnull()]\n",
        "\n",
        "#Import data (mold info)\n",
        "path1 = '/content/drive/MyDrive/Data science/Mine/Recommendation-Production Planning/DATABASE/MOLD INFO.xlsx'\n",
        "mold_data = pd.read_excel(path1)\n",
        "\n",
        "#Import data (plastic info)\n",
        "path2 = '/content/drive/MyDrive/Data science/Mine/Recommendation-Production Planning/DATABASE/PLASTIC INFO.xlsx'\n",
        "plastic_data = pd.read_excel(path2)\n",
        "\n",
        "#Import data (machine info)\n",
        "path3 = '/content/drive/MyDrive/Data science/Mine/Recommendation-Production Planning/DATABASE/MACHINE INFO.xlsx'\n",
        "machine_data = pd.read_excel(path3)\n",
        "\n",
        "#Take a look at data\n",
        "\"\"\"\n",
        "print('PRODUCTION INFORMATION \\n')\n",
        "print(pro_data.info(),'\\n\\n***\\n')\n",
        "print(pro_data.describe(),'\\n\\n***\\n')\n",
        "print(pro_data.describe(include = ['O']),'\\n\\n***\\n')\n",
        "\n",
        "print('MOLD INFORMATION \\n')\n",
        "print(mold_data.info(),'\\n\\n***\\n')\n",
        "print(mold_data.describe(),'\\n\\n***\\n')\n",
        "print(mold_data.describe(include = ['O']),'\\n\\n***\\n')\n",
        "\n",
        "print('PLASTIC INFORMATION \\n')\n",
        "print(plastic_data.info(),'\\n\\n***\\n')\n",
        "print(plastic_data.describe(),'\\n\\n***\\n')\n",
        "print(plastic_data.describe(include = ['O']),'\\n\\n***\\n')\n",
        "\n",
        "print('MACHINE INFORMATION \\n')\n",
        "print(machine_data.info(),'\\n\\n***\\n')\n",
        "print(machine_data.describe(),'\\n\\n***\\n')\n",
        "print(machine_data.describe(include = ['O']),'\\n\\n***\\n')\n",
        "\"\"\""
      ],
      "metadata": {
        "colab": {
          "base_uri": "https://localhost:8080/",
          "height": 0
        },
        "id": "N_CbUyu3B2K3",
        "outputId": "3f9ed1df-b76f-498e-ac4c-283bc958b56d"
      },
      "execution_count": 3,
      "outputs": [
        {
          "output_type": "execute_result",
          "data": {
            "text/plain": [
              "\"\\nprint('PRODUCTION INFORMATION \\n')\\nprint(pro_data.info(),'\\n\\n***\\n')\\nprint(pro_data.describe(),'\\n\\n***\\n')\\nprint(pro_data.describe(include = ['O']),'\\n\\n***\\n')\\n\\nprint('MOLD INFORMATION \\n')\\nprint(mold_data.info(),'\\n\\n***\\n')\\nprint(mold_data.describe(),'\\n\\n***\\n')\\nprint(mold_data.describe(include = ['O']),'\\n\\n***\\n')\\n\\nprint('PLASTIC INFORMATION \\n')\\nprint(plastic_data.info(),'\\n\\n***\\n')\\nprint(plastic_data.describe(),'\\n\\n***\\n')\\nprint(plastic_data.describe(include = ['O']),'\\n\\n***\\n')\\n\\nprint('MACHINE INFORMATION \\n')\\nprint(machine_data.info(),'\\n\\n***\\n')\\nprint(machine_data.describe(),'\\n\\n***\\n')\\nprint(machine_data.describe(include = ['O']),'\\n\\n***\\n')\\n\""
            ],
            "application/vnd.google.colaboratory.intrinsic+json": {
              "type": "string"
            }
          },
          "metadata": {},
          "execution_count": 3
        }
      ]
    },
    {
      "cell_type": "code",
      "source": [
        "#Estimate full capacity (efficiency: 100%, loss: 0%) and actual capacity (efficiency: 85%, loss: 3%)\n",
        "efficiency = 0.85\n",
        "loss = 0.03\n",
        "full_capacity = 3600/mold_data['CYCLE (SUGGEST) S']*mold_data['CAVITY (STANDARD) PCS/MOLD']\n",
        "actual_capacity = (full_capacity*efficiency) - (full_capacity*loss) \n",
        "\n",
        "mold_data['FULL CAPACITY (ESTIMATED) PCS/HOUR'] = full_capacity\n",
        "mold_data['ACTUAL CAPACITY (ESTIMATED) PCS/HOUR'] = actual_capacity\n",
        "\n",
        "mold_data.info()"
      ],
      "metadata": {
        "colab": {
          "base_uri": "https://localhost:8080/"
        },
        "id": "zHjgYTJUI2dX",
        "outputId": "c20eec9d-32bf-42fa-c907-9cd4856cfd51"
      },
      "execution_count": 4,
      "outputs": [
        {
          "output_type": "stream",
          "name": "stdout",
          "text": [
            "<class 'pandas.core.frame.DataFrame'>\n",
            "RangeIndex: 875 entries, 0 to 874\n",
            "Data columns (total 11 columns):\n",
            " #   Column                                Non-Null Count  Dtype  \n",
            "---  ------                                --------------  -----  \n",
            " 0   ITEM CODE                             875 non-null    object \n",
            " 1   ITEM NAME                             875 non-null    object \n",
            " 2   MOLD STATUS                           875 non-null    object \n",
            " 3   MOLD NO.                              875 non-null    object \n",
            " 4   MOLD NAME                             875 non-null    object \n",
            " 5   CAVITY (STANDARD) PCS/MOLD            875 non-null    int64  \n",
            " 6   CAVITY (ACTUAL) PCS/MOLD              875 non-null    int64  \n",
            " 7   CYCLE (SUGGEST) S                     875 non-null    float64\n",
            " 8   TONNAGE TON                           875 non-null    object \n",
            " 9   FULL CAPACITY (ESTIMATED) PCS/HOUR    875 non-null    float64\n",
            " 10  ACTUAL CAPACITY (ESTIMATED) PCS/HOUR  875 non-null    float64\n",
            "dtypes: float64(3), int64(2), object(6)\n",
            "memory usage: 75.3+ KB\n"
          ]
        }
      ]
    },
    {
      "cell_type": "markdown",
      "source": [
        "## OUTPUT:\n",
        "* Production plan for each machine\n",
        "* Mold plan for each machine\n",
        "* Plastic plan for each machine/day."
      ],
      "metadata": {
        "id": "Ff2RNPUlFW5i"
      }
    },
    {
      "cell_type": "code",
      "source": [
        "#Create a machine list\n",
        "machine_no = []\n",
        "for i in range(1,50):\n",
        "  if i < 10:\n",
        "    machine_no.append('NO.0'+ str(i))\n",
        "  else:\n",
        "    machine_no.append('NO.'+ str(i))\n",
        "\n",
        "#Create output frame\n",
        "output_plan = pd.DataFrame(columns = ['MACHINE NO.'])\n",
        "output_plan['MACHINE NO.'] = machine_no"
      ],
      "metadata": {
        "id": "-coIveBsFoLo"
      },
      "execution_count": 5,
      "outputs": []
    },
    {
      "cell_type": "markdown",
      "source": [
        "# PREPARE DATA\n",
        "Divide \"Production report\" into 3 parts: \n",
        "* History (produced orders)\n",
        "* Producing (producing orders)\n",
        "* Pending (pending orders)"
      ],
      "metadata": {
        "id": "kIEHs_vkHAaw"
      }
    },
    {
      "cell_type": "markdown",
      "source": [
        "##Step 1: \n",
        "###Get data for \"producing\":\n",
        "* Add some features such as full capacity, actual capacity, machine information\n",
        "* Calculate lead time, remaining time, production progress, and finished date\n",
        "\n",
        "###Use data frame named \"producing\" to:\n",
        "* Update item names are produced on 49 machines into pro_plan\n",
        "* Update item molds are produced on 49 machines into mold_plan\n",
        "* Add plastic info based on item code into plastic_plan. Then calculate production quantity and plastic quantity for using in 24h for each machine"
      ],
      "metadata": {
        "id": "mTQ2d1FKHRjQ"
      }
    },
    {
      "cell_type": "code",
      "source": [
        "#Create a function to update production information about items and molds that are in progress, the daily amount of plastic to use for each machine\n",
        "#With input = pro_data\n",
        "def update_status_producing(data, mold_data, machine_data,output_plan, plastic_data):\n",
        "  #There are 49 machines in the factory. So we must be sure that there will be 49 rows in the output data frame.\n",
        "  producing_data = data[(data['PO REMAIN']>0) & (data['PRO. STATUS'] == 'PRODUCING')] #filter \n",
        "  #ascending sort by 'PRO. STATUS': Machine no. in use for each item\n",
        "  producing_data = producing_data[['PO NO.', 'ITEM CODE', 'ITEM NAME','OUTPUT DATE', 'MOLD STATUS', 'PO QUANTITY', 'PO REMAIN', 'MACHINE NO.', 'STARTED DATE']].sort_values(by='MACHINE NO.') \n",
        "  #Add full capacity and actual capacity information based on item code and suggested mold status. \n",
        "  producing_data = producing_data.merge(mold_data[['ITEM CODE','MOLD STATUS', 'MOLD NO.', 'MOLD NAME','FULL CAPACITY (ESTIMATED) PCS/HOUR',\n",
        "                                       'ACTUAL CAPACITY (ESTIMATED) PCS/HOUR']], how = 'left', on=['ITEM CODE','MOLD STATUS'])\n",
        "  producing_data = producing_data.astype({'FULL CAPACITY (ESTIMATED) PCS/HOUR':'int','ACTUAL CAPACITY (ESTIMATED) PCS/HOUR':'int'})\n",
        "  #Add machine information based on machine no.\n",
        "  producing_data = producing_data.merge(machine_data[['MACHINE NO.','MODEL','TONNAGE TON']], how = 'left', on=['MACHINE NO.'])\n",
        "\n",
        "  #Calculate lead time, remain time, production progress and finished date\n",
        "  import datetime\n",
        "  from datetime import timedelta\n",
        "  lead_time = []\n",
        "  for lead_t in (producing_data['PO QUANTITY']/(producing_data['ACTUAL CAPACITY (ESTIMATED) PCS/HOUR'])).to_list():\n",
        "    lead_time.append(datetime.timedelta(hours=lead_t)) #calculate lead time\n",
        "  remain_time = []\n",
        "  for remain_t in (producing_data['PO REMAIN']/(producing_data['ACTUAL CAPACITY (ESTIMATED) PCS/HOUR'])).to_list():\n",
        "    remain_time.append(datetime.timedelta(hours=remain_t)) #calculate remain time\n",
        "  producing_data['LEAD TIME (DAYS)'] = lead_time\n",
        "  producing_data['FINISHED DATE (ESTIMATED)'] = producing_data['STARTED DATE']+producing_data['LEAD TIME (DAYS)'] #calculate finished date\n",
        "  producing_data['FINISHED DATE (ESTIMATED)'] = producing_data['FINISHED DATE (ESTIMATED)'].dt.strftime('%Y-%m-%d %H:%M:%S') #change form of finished date\n",
        "  producing_data['PRO PROGRESS (%)'] = round(((producing_data['PO QUANTITY'] - producing_data['PO REMAIN'])*100/producing_data['PO QUANTITY']),2) #calculate production progress \n",
        "  producing_data['REMAIN TIME (DAYS)'] = remain_time\n",
        "\n",
        "  producing_data1 = producing_data.copy()\n",
        "  producing_data1['ITEM NAME & PO NO.'] = list(producing_data1['ITEM NAME']+' ('+producing_data1['PO NO.']+')')\n",
        "\n",
        "  #Add item names that are produced by each machine into pro_plan\n",
        "  pro_plan_update_producing = output_plan.merge(machine_data[['MODEL','TONNAGE TON','MACHINE NO.']], how = 'left', on=['MACHINE NO.'])\n",
        "  pro_plan_update_producing['PRODUCING'] = producing_data1['ITEM NAME & PO NO.'].to_list()\n",
        "  pro_plan_update_producing['PRODUCING LEAD TIME (DAYS)'] = producing_data1['REMAIN TIME (DAYS)'].to_list()\n",
        "\n",
        "  #Add mold names are producing on each machine into mold_plan\n",
        "  mold_plan_update_producing = output_plan.merge(machine_data[['MODEL','TONNAGE TON','MACHINE NO.']], how = 'left', on=['MACHINE NO.'])\n",
        "  mold_plan_update_producing['PRODUCING'] = producing_data1['MOLD NAME'].to_list()\n",
        "  mold_plan_update_producing['PRODUCING LEAD TIME (DAYS)'] = producing_data1['REMAIN TIME (DAYS)'].to_list()\n",
        "  \n",
        "  #Add plastic info base on item code\n",
        "  plastic = producing_data1[['MACHINE NO.','PO NO.',\t'ITEM CODE','ITEM NAME & PO NO.',\t'ITEM NAME',\t'PO REMAIN','FULL CAPACITY (ESTIMATED) PCS/HOUR']]\n",
        "  plastic_merge = plastic.merge(plastic_data[['ITEM CODE','MAIN NAME','MAIN QUAN. (KG/10000PCS)', 'COLOR NAME','COLOR QUAN. (KG/10000PCS)', \n",
        "                                              'ADDITION','ADDITON QUAN. (KG/10000PCS)']], how = 'left', on=['ITEM CODE'])\n",
        "  PRO_QUAN = [] #Calculate production quantity and plastic quantity for using in 24h for each machine\n",
        "  for index, row in plastic_merge.iterrows():\n",
        "    if row['PO REMAIN'] > (row['FULL CAPACITY (ESTIMATED) PCS/HOUR']*24):\n",
        "      PRO_QUAN.append(row['FULL CAPACITY (ESTIMATED) PCS/HOUR']*24)\n",
        "    else:\n",
        "      PRO_QUAN.append(row['PO REMAIN'])\n",
        "  plastic_merge['PRO QUAN. (PCS/DAY)'] = PRO_QUAN #production quantity\n",
        "  plastic_merge['MAIN QUAN. (KG)'] = plastic_merge['MAIN QUAN. (KG/10000PCS)']/10000*plastic_merge['PRO QUAN. (PCS/DAY)'] #plastic quantity\n",
        "  plastic_merge['COLOR QUAN. (G)'] = plastic_merge['COLOR QUAN. (KG/10000PCS)']*1000/10000*plastic_merge['PRO QUAN. (PCS/DAY)'] #color quantity (if any)\n",
        "  plastic_merge['ADDITON QUAN. (G)'] = plastic_merge['ADDITON QUAN. (KG/10000PCS)']*1000/10000*plastic_merge['PRO QUAN. (PCS/DAY)'] #addition quantity (if any)\n",
        "  #drop some feature for free space\n",
        "  plastic_merge = plastic_merge.drop(['ADDITON QUAN. (KG/10000PCS)','MAIN QUAN. (KG/10000PCS)','COLOR QUAN. (KG/10000PCS)'],axis = 1) \n",
        "  #Add features from plastic into plastic plan\n",
        "  plastic_plan_update_producing = output_plan.merge(machine_data[['MODEL','TONNAGE TON','MACHINE NO.']], how = 'left', on=['MACHINE NO.'])\n",
        "  plastic_plan_update_producing['ITEM NAME & PO NO.'] = producing_data1['ITEM NAME & PO NO.'].to_list() #Item name\n",
        "  plastic_plan_update_producing['PRO QUAN. (PCS/DAY)'] = plastic_merge['PRO QUAN. (PCS/DAY)'].to_list() #Production quantity\n",
        "  plastic_plan_update_producing['PLASTIC'] = plastic_merge['MAIN NAME'].to_list() #Main plastic name\n",
        "  plastic_plan_update_producing['P QUANTITY (KG/DAY)'] = plastic_merge['MAIN QUAN. (KG)'].to_list() #Main plastic quantity\n",
        "  plastic_plan_update_producing['COLOR'] = plastic_merge['COLOR NAME'].to_list() #Color name\n",
        "  plastic_plan_update_producing['C QUANTITY (G/DAY)'] = plastic_merge['COLOR QUAN. (G)'].to_list() #Color quantity\n",
        "  plastic_plan_update_producing['ADDITION'] = plastic_merge['ADDITION'].to_list() #Addition name\n",
        "  plastic_plan_update_producing['A QUANTITY (G/DAY)'] = plastic_merge['ADDITON QUAN. (G)'].to_list() #Addition quantity\n",
        "  #Fill Nan in ['PLASTIC','COLOR','ADDITION'] by 'NONE'\n",
        "  plastic_plan_update_producing[['PLASTIC','COLOR','ADDITION']] = plastic_plan_update_producing[['PLASTIC','COLOR','ADDITION']].fillna('NONE') \n",
        "  #Fill Nan in ['P QUANTITY (KG/DAY)','C QUANTITY (G/DAY)','A QUANTITY (G/DAY)'] by 0\n",
        "  plastic_plan_update_producing[['P QUANTITY (KG/DAY)','C QUANTITY (G/DAY)','A QUANTITY (G/DAY)']] = plastic_plan_update_producing[['P QUANTITY (KG/DAY)','C QUANTITY (G/DAY)','A QUANTITY (G/DAY)']].fillna(0)\n",
        "  #Change type for ['P QUANTITY (KG/DAY)','C QUANTITY (G/DAY)','A QUANTITY (G/DAY)'] to 'int'\n",
        "  plastic_plan_update_producing = plastic_plan_update_producing.astype({'P QUANTITY (KG/DAY)':'int','C QUANTITY (G/DAY)':'int','A QUANTITY (G/DAY)':'int'})\n",
        "\n",
        "  return producing_data, pro_plan_update_producing, mold_plan_update_producing, plastic_plan_update_producing"
      ],
      "metadata": {
        "id": "x7iDhd4OhMat"
      },
      "execution_count": 6,
      "outputs": []
    },
    {
      "cell_type": "markdown",
      "source": [
        "##Step 2: \n",
        "We will use \"history\", \"producing\", and \"pending\" to recommend suitable machines for molds used and never used before, then calculate the lead time for each machine\n",
        "1. Based on mold infomation, since many molds are suitable for producing one item, we will use the best capacity in them as plan A.\n",
        "2. We will recommend mold status for each item and add mold specification (mold code, mold name, cavity, cycle, capacity) in \"pending\".\n",
        "3. We also will estimate lead time for each item"
      ],
      "metadata": {
        "id": "MiMzwTGaT5hW"
      }
    },
    {
      "cell_type": "code",
      "source": [
        "#Create a function to suggest the best suitaible machine for each item, based on history of production\n",
        "#With input = pro_data\n",
        "\n",
        "def best_suitable_machine_based_on_history(pro_data,machine_data,mold_data):\n",
        "  #Get data for history\n",
        "  hist = pro_data.loc[pro_data['PO REMAIN']==0].merge(machine_data[['MACHINE NO.','MODEL','TONNAGE TON']], how = 'left', on=['MACHINE NO.'])\n",
        "  #Get data for pending\n",
        "  pending = pro_data[(pro_data['PO REMAIN']>0) & (pro_data['PRO. STATUS'] != 'PRODUCING')][['PO NO.',\t'ITEM CODE',\t'ITEM NAME',\t'OUTPUT DATE',\t'PO QUANTITY']]\n",
        "  \n",
        "  #In some cases, there are many molds can produce one item. So we will choose the best capacity in them as plan A.\n",
        "  #Filter out the best capacity as plan A\n",
        "  mold_data_A = mold_data.drop(['TONNAGE TON'],axis=1).groupby('ITEM NAME').max().reset_index()\n",
        "  #Suggest and add mold info of plan A based on item code\n",
        "  pending_suggest_moldA = pending.merge(mold_data_A[['ITEM CODE', 'MOLD STATUS', 'MOLD NO.', 'MOLD NAME','CAVITY (STANDARD) PCS/MOLD',\n",
        "                                     'CYCLE (SUGGEST) S', 'CAVITY (ACTUAL) PCS/MOLD','FULL CAPACITY (ESTIMATED) PCS/HOUR',\n",
        "                                     'ACTUAL CAPACITY (ESTIMATED) PCS/HOUR']], how = 'left', on=['ITEM CODE'])\n",
        "  lead_time_ = [] #Calculate lead time for each item\n",
        "  for lead_ti in (pending_suggest_moldA['PO QUANTITY']/pending_suggest_moldA['ACTUAL CAPACITY (ESTIMATED) PCS/HOUR']).to_list():\n",
        "    lead_time_.append(datetime.timedelta(hours=lead_ti)) #calculate lead time\n",
        "  pending_suggest_moldA_leadtime = pending_suggest_moldA.copy()\n",
        "  pending_suggest_moldA_leadtime['LEAD TIME (DAYS)'] = lead_time_\n",
        "  pending_suggest_moldA_leadtime = pending_suggest_moldA_leadtime.astype({'FULL CAPACITY (ESTIMATED) PCS/HOUR':'int','ACTUAL CAPACITY (ESTIMATED) PCS/HOUR':'int'})\n",
        "  pending_suggest_moldA_leadtime.head()\n",
        "\n",
        "  #Create pending_matrix with index = mold name, columns = suitable machine\n",
        "  pending_matrix = pd.DataFrame(index = pending_suggest_moldA_leadtime['MOLD NAME'].unique(), columns = ['SUITABLE MACHINES']).fillna('')\n",
        "  #Based on history of production, create a machine dictionay with keys are mold names and values are suitaible machines\n",
        "  machine_dictionary = {}\n",
        "  hist_machine = hist.groupby('MOLD NAME')['MACHINE NO.'].unique() #index = MOLD NAME, column = list of machines used for these mold names before\n",
        "  for mold_name_pending in pending_matrix.index: #loop for all mold name (matrix)\n",
        "    if mold_name_pending in hist_machine.index: #if mold name (matrix) are in list of mold name (his_machine)\n",
        "      machine_dictionary[mold_name_pending] = list(hist_machine[mold_name_pending]) #add {mold name (matrix): his_machine[mold name (matrix)]} into machine_dictionary\n",
        "    else:\n",
        "      machine_dictionary[mold_name_pending] = [] #else: add {mold name (matrix): []}\n",
        "  #Based on machine_dictionary,\n",
        "  for key in machine_dictionary: #loop for all mold names (machine_dictionary)\n",
        "    for item in pending_matrix.index: #loop for all mold names (pending_matrix) \n",
        "      if key == item: #if mold name (machine_dictionary) == mold name (pending_matrix) \n",
        "          #fill column 'suitable machine' with corresponding machine_dictionary[key]\n",
        "          pending_matrix.loc[key,'SUITABLE MACHINES'] = machine_dictionary[key] \n",
        "  #Make a copy of pending_matrix as suitable_matrix\n",
        "  #For each item and each machine, if an item can produced by a machine, value [item, machine] will be 1 in suitable_matrix, else it will be 0\n",
        "  #We will sum by each row to calculate number of machines will be suitable for each item\n",
        "  suitable_matrix = pending_matrix.copy()\n",
        "  for items, rows in suitable_matrix.iterrows(): #loop for each index and row in matrix\n",
        "      for sui_machine in rows['SUITABLE MACHINES']: #rows['SUITABLE MACHINES'] is list => loop for each value in list\n",
        "          suitable_matrix.at[items, sui_machine] = 1  #fill 1 into location [items, sui_machine] => else : NaN\n",
        "  suitable_matrix = suitable_matrix.fillna(0) #fill NaN = 0\n",
        "  suitable_matrix = suitable_matrix.drop('SUITABLE MACHINES',axis = 1) #drop column 'SUITABLE MACHINES'\n",
        "  suitable_matrix['NUMBER_OF_SUITABLE_MACHINES'] = suitable_matrix.sum(axis=1) #total suitable machines will be sum of each row\n",
        "  suitable_matrix = suitable_matrix.reindex(sorted(suitable_matrix.columns),axis=1) #sort column name by ascending\n",
        "  suitable_matrix = suitable_matrix.sort_values('NUMBER_OF_SUITABLE_MACHINES') #sort total suitable machines by ascending\n",
        "\n",
        "  #Make a copy of pending_matrix as machine_matrix\n",
        "  machine_matrix = pending_matrix.copy().reset_index().rename(columns={'index':'MOLD NAME'})\n",
        "  for machine in machine_no: #filter a data frame with each mold name and the frequency of each machine used before\n",
        "    anpha = hist[hist['MACHINE NO.']==machine].groupby('MOLD NAME')['MACHINE NO.'].count().reset_index().rename(columns = {'MACHINE NO.':machine})\n",
        "    machine_matrix = machine_matrix.merge(anpha, how = 'left', on=['MOLD NAME']) #merge machine_matrix with data frame above\n",
        "  machine_matrix = machine_matrix.fillna(0).set_index('MOLD NAME').drop('SUITABLE MACHINES', axis =1)\n",
        "  machine_matrix['MAX'] = machine_matrix.max(axis = 1) #find the maximum frequency of each mold name\n",
        "  machine_matrix = machine_matrix[machine_matrix['MAX']!=0] #if maximum value = 0, it means these molds never used before. \n",
        "  #We will separate these molds for another step (suggest a suitable machine for new mold).\n",
        "\n",
        "  #One mold can be used on many machines at many times. \n",
        "  #So we will suggest a suitable machine for each mold by choosing one machine that has the maximum frequency\n",
        "  sui_machine = machine_matrix.idxmax(axis=1).reset_index() #return the index for the maximum value in each row, use axis=1 or ‘columns’.\n",
        "  sui_machine.columns = ['MOLD NAME','MACHINE NO.']\n",
        "  return hist, pending, pending_suggest_moldA_leadtime, sui_machine"
      ],
      "metadata": {
        "id": "KwWfm4nYStP7"
      },
      "execution_count": 7,
      "outputs": []
    },
    {
      "cell_type": "code",
      "source": [
        "#Create a function to update mold plan with pending data\n",
        "def update_mold_plan_with_sui_machine(mold_plan_with_producing, best_sui_machine, pending_data_with_moldA):\n",
        "  #Create a data frame with machine no. and total mold names will be used on it\n",
        "  mold_list = best_sui_machine.groupby('MACHINE NO.')['MOLD NAME'].unique().reset_index()\n",
        "  #Add sui_machine into pending\n",
        "  pending_suggest_moldA_best_sui_machine = pending_data_with_moldA.merge(best_sui_machine, how = 'left', on=['MOLD NAME']).fillna('')\n",
        "  #Get sum of lead time for each machine\n",
        "  pending_leadtime = pending_suggest_moldA_best_sui_machine.groupby('MACHINE NO.')['LEAD TIME (DAYS)'].sum().reset_index()\n",
        "  #Merge mold_plan with mold_list\n",
        "  mold_plan_update_pending = mold_plan_with_producing.merge(mold_list, how = 'left', on=['MACHINE NO.'])\n",
        "  #Add lead time for each machine into mold plan\n",
        "  mold_plan_update_producing_pending = mold_plan_update_pending.merge(pending_leadtime, how = 'left', on=['MACHINE NO.'])\n",
        "  mold_plan_update_producing_pending['MOLD NAME'] = mold_plan_update_producing_pending['MOLD NAME'].fillna('')\n",
        "  mold_plan_update_producing_pending = mold_plan_update_producing_pending.rename(columns = {'LEAD TIME (DAYS)':'PENDING LEAD TIME (DAYS)'})\n",
        "  mold_plan_update_producing_pending['PENDING LEAD TIME (DAYS)'] = mold_plan_update_producing_pending['PENDING LEAD TIME (DAYS)'].fillna(pd.Timedelta(seconds=0))\n",
        "  mold_plan_update_producing_pending['TOTAL LEAD TIME (DAYS)'] = mold_plan_update_producing_pending['PENDING LEAD TIME (DAYS)'] + mold_plan_update_producing_pending['PRODUCING LEAD TIME (DAYS)']\n",
        "  \n",
        "  return mold_plan_update_producing_pending, pending_suggest_moldA_best_sui_machine"
      ],
      "metadata": {
        "id": "kc1S82emHCaI"
      },
      "execution_count": 8,
      "outputs": []
    },
    {
      "cell_type": "markdown",
      "source": [
        "##Step 3:\n",
        "We use \"history\", \"producing\", and \"pending\" to recommend suitable machines for molds never used before, then calculate the lead time for each machine"
      ],
      "metadata": {
        "id": "si7W3b6wVK_i"
      }
    },
    {
      "cell_type": "code",
      "source": [
        "#Create a function recommend suitable machines based on machine tonnage\n",
        "def suitable_machine_based_on_tonnage(pending_data, mold_data, mold_plan):\n",
        "  #Get information of molds never used before\n",
        "  mold = pending_data[pending_data['MACHINE NO.'] == '']\n",
        "  #Merge these molds with mold_data to get suitable tonnage\n",
        "  mold  = mold.merge(mold_data[['ITEM CODE','MOLD NAME','TONNAGE TON']], how = 'left', on=['MOLD NAME','ITEM CODE'])\n",
        "  mold['TONNAGE TON'] = mold['TONNAGE TON'].astype(str)\n",
        "  #Create a data frame with these mold and suitable tonnage\n",
        "  mold_groupby_tonnage = mold.groupby('MOLD NAME')['TONNAGE TON'].unique().reset_index()\n",
        "  #One mold can be used with many machine tonnages. But we will prioritize the minimum tonnage in them for safe mold.\n",
        "  priorities = []\n",
        "  for num in range(len(mold_groupby_tonnage['TONNAGE TON'])):\n",
        "    priorities.append(mold_groupby_tonnage['TONNAGE TON'][num][0].split('/')[0])\n",
        "  mold_pri_tonage = mold_groupby_tonnage\n",
        "  mold_pri_tonage['PRIORITIES'] = priorities\n",
        "  mold_pri_tonage['PRIORITIES'] = mold_pri_tonage['PRIORITIES'].astype(str)\n",
        "  #We can see that some same tonnage machines have a lead time longer than others. \n",
        "  #So with the same tonnage, we will suggest the machine that has a shorter lead time in them.\n",
        "  short_LT_tonnage = mold_plan.groupby('TONNAGE TON')['TOTAL LEAD TIME (DAYS)'].min().reset_index()\n",
        "  best_sui_machine_short_LT = short_LT_tonnage.merge(mold_plan[['MACHINE NO.','TONNAGE TON','TOTAL LEAD TIME (DAYS)']],how='left',on=['TONNAGE TON','TOTAL LEAD TIME (DAYS)'])\n",
        "  best_sui_machine_short_LT.columns = ['PRIORITIES','LEAD TIME (DAYS)','MACHINE NO.']\n",
        "  best_sui_machine_short_LT['PRIORITIES'] = best_sui_machine_short_LT['PRIORITIES'].astype(str)\n",
        "  best_sui_machine_tonnage = mold_pri_tonage.merge(best_sui_machine_short_LT[['PRIORITIES','MACHINE NO.']],how='left',on=['PRIORITIES'])\n",
        "  best_sui_machine_tonnage = best_sui_machine_tonnage.drop(['TONNAGE TON',\t'PRIORITIES'], axis = 1)\n",
        "  return best_sui_machine_tonnage"
      ],
      "metadata": {
        "id": "EzWDKPRg6-OC"
      },
      "execution_count": 9,
      "outputs": []
    },
    {
      "cell_type": "markdown",
      "source": [
        "#OPTIMALITY\n",
        "The same machine models will have the same specifications. But after step 3, we can see that some machines with a lead time longer than the same specification others. Here we will adjust the mold list of each machine in order to the same specification machines will have a similar lead time for these machines."
      ],
      "metadata": {
        "id": "IsPmhLzi0eXS"
      }
    },
    {
      "cell_type": "markdown",
      "source": [
        "##Step 4: \n",
        "Check over lead time for each machine.\n",
        "- Over average lead time/machine\n",
        "- Under average lead time/machine"
      ],
      "metadata": {
        "id": "Lz0C0yFiq6RZ"
      }
    },
    {
      "cell_type": "code",
      "source": [
        "#Create a function to check over lead time for each machine\n",
        "def check_over_lead_time(mold_plan):\n",
        "  #Check over capacity for each model\n",
        "  check_over_model = mold_plan.groupby('MODEL')['TOTAL LEAD TIME (DAYS)'].sum().reset_index()\n",
        "  check_over_model['NUM OF MACHINES'] = mold_plan.groupby('MODEL')['MACHINE NO.'].count().reset_index()['MACHINE NO.']\n",
        "  check_over_model['LEAD TIME/MACHINE (DAYS)'] = check_over_model['TOTAL LEAD TIME (DAYS)'] / check_over_model['NUM OF MACHINES']\n",
        "  check_over_model = check_over_model.sort_values('LEAD TIME/MACHINE (DAYS)',ascending = False)\n",
        "\n",
        "  #Check over capacity for each tonnage\n",
        "  check_over_tonnage = mold_plan.groupby('TONNAGE TON')['TOTAL LEAD TIME (DAYS)'].sum().reset_index()\n",
        "  check_over_tonnage['NUM OF MACHINES'] = mold_plan.groupby('TONNAGE TON')['MACHINE NO.'].count().reset_index()['MACHINE NO.']\n",
        "  check_over_tonnage['LEAD TIME/MACHINE (DAYS)'] = check_over_tonnage['TOTAL LEAD TIME (DAYS)'] / check_over_tonnage['NUM OF MACHINES']\n",
        "  check_over_tonnage = check_over_tonnage.sort_values('LEAD TIME/MACHINE (DAYS)',ascending = False)\n",
        "\n",
        "  #Use mold plan in step 4 and capacity status in step 5 to check over lead time for each machine\n",
        "  check_over_LT = mold_plan.merge(check_over_model[['MODEL','LEAD TIME/MACHINE (DAYS)']],how='left',on=['MODEL'])\n",
        "  check_over_LT = check_over_LT.set_index('MACHINE NO.') #use 'MACHINE NO.' as index\n",
        "  check_over_LT.index.name = None\n",
        "  #Count number of suitable molds for each machine\n",
        "  num_of_mold = []\n",
        "  for molds in check_over_LT['MOLD NAME']:\n",
        "    num_of_mold.append(len(molds))\n",
        "  check_over_LT['NUM OF MOLD'] = num_of_mold\n",
        "\n",
        "  #In case lead time of each machine > average lead time => over lead time\n",
        "  #If number of molds of a machine is 1 => We can consider using 2 or more molds for the shorter lead time.\n",
        "  over_LT = check_over_LT[check_over_LT['TOTAL LEAD TIME (DAYS)']>=check_over_LT['LEAD TIME/MACHINE (DAYS)']].copy()\n",
        "  #Check if we should use more molds for this item.\n",
        "  nums = []\n",
        "  for num in over_LT['NUM OF MOLD']:\n",
        "    if num == 1:\n",
        "      nums.append('YES')\n",
        "    else: \n",
        "      nums.append('')\n",
        "  over_LT['NEED MORE MOLD FOR THIS ITEM'] = nums\n",
        "\n",
        "  #In case lead time of each machine < average lead time => over lead time\n",
        "  under_LT = check_over_LT[check_over_LT['TOTAL LEAD TIME (DAYS)']<check_over_LT['LEAD TIME/MACHINE (DAYS)']]\n",
        "  under_LT_ = under_LT[['LEAD TIME/MACHINE (DAYS)','TOTAL LEAD TIME (DAYS)']].copy()\n",
        "  under_LT_['LT DIFF'] = under_LT_['LEAD TIME/MACHINE (DAYS)'] - under_LT_['TOTAL LEAD TIME (DAYS)']\n",
        "\n",
        "  return check_over_model, check_over_tonnage, check_over_LT, over_LT, under_LT_"
      ],
      "metadata": {
        "id": "7pQVYduDzsoT"
      },
      "execution_count": 10,
      "outputs": []
    },
    {
      "cell_type": "markdown",
      "source": [
        "##Step 5:\n",
        "In case \"Over average lead time/machine\", we will move some molds for these machines to other more suitable machines."
      ],
      "metadata": {
        "id": "x8QaNrggzgsl"
      }
    },
    {
      "cell_type": "code",
      "source": [
        "#Create a function to get priority molds for machines that are over-capacity, then make a list of molds that are moved out \n",
        "def modify_plan_for_OC_machines(pending_data,check_over_leadtime,mold_plan,under_leadtime_machines):\n",
        "  #Get the lead time information for each mold name\n",
        "  LT_bymold = pending_data.groupby('MOLD NAME')['LEAD TIME (DAYS)'].sum().reset_index()\n",
        "  #Get information about machines and their mold list from over_LT\n",
        "  over_LT_matrix = check_over_leadtime[['MOLD NAME']][check_over_leadtime['NUM OF MOLD']>=1].copy()\n",
        "  #Create a over lead time matrix with columns = mold names, row = machines and values = the lead time of each mold\n",
        "  for ix, ro in over_LT_matrix.iterrows():\n",
        "    for value in ro['MOLD NAME']:\n",
        "      over_LT_matrix.loc[ix,value] = LT_bymold['LEAD TIME (DAYS)'][LT_bymold['MOLD NAME']==value].to_list()\n",
        "  over_LT_matrix = over_LT_matrix.drop('MOLD NAME',axis =1).fillna(pd.Timedelta(days=0))\n",
        "  #Get molds that have the slowest lead time, we will use them as priority molds\n",
        "  priority_molds = over_LT_matrix.idxmax(axis=1).reset_index()\n",
        "  priority_molds.columns = ['MACHINE NO.', 'NEXT MOLD NAME']\n",
        "  #Use priority molds and suitable molds for each machine to show the molds will remain after picking out priority molds for each machine\n",
        "  mold_plan_a = priority_molds.merge(check_over_leadtime.rename_axis('MACHINE NO.').reset_index()[['MACHINE NO.','MOLD NAME']],\n",
        "                      how = 'left', on = 'MACHINE NO.')\n",
        "  mold_plan_a = mold_plan_a.set_index('NEXT MOLD NAME')\n",
        "  mold_plan_a.index.name = None\n",
        "  #show the molds will remain after picking out priority molds for each machine\n",
        "  diff = []\n",
        "  for idx, rec in mold_plan_a.iterrows():\n",
        "    diff.append(list(set(rec['MOLD NAME'].tolist()) - set([idx])))\n",
        "  mold_plan_a['DIFF'] = diff\n",
        "  mold_plan_a = mold_plan_a.reset_index()\n",
        "  mold_plan_a.columns = ['MOLD NAME',\t'MACHINE NO.',\t'MOLD NAME LIST', 'MOLD DIFF']\n",
        "  #add lead time for priority molds and lead time for each machine\n",
        "  mold_plan_b = mold_plan_a.merge(LT_bymold, how = 'left', on = 'MOLD NAME')\n",
        "  mold_plan_b = mold_plan_b.merge(check_over_leadtime.rename_axis('MACHINE NO.').reset_index()[['MACHINE NO.', 'LEAD TIME/MACHINE (DAYS)']],\n",
        "                                            how = 'left', on = 'MACHINE NO.')\n",
        "  mold_plan_b = mold_plan_b.set_index('MACHINE NO.')\n",
        "  mold_plan_b.index.name = None\n",
        "  #In case lead time for priority molds < for each machine => add more molds into mold plan \n",
        "  mold_plan_c = mold_plan_b[mold_plan_b['LEAD TIME (DAYS)']<mold_plan_b['LEAD TIME/MACHINE (DAYS)']].drop('MOLD NAME LIST', axis= 1)\n",
        "  mold_plan_c['LT DIFF'] = (mold_plan_c['LEAD TIME/MACHINE (DAYS)']) - (mold_plan_c['LEAD TIME (DAYS)'])\n",
        "  mold_plan_d = mold_plan_c[['MOLD DIFF']].copy()\n",
        "  #Create a over lead time matrix with columns = mold names, row = machines and values = the lead time of each mold\n",
        "  for ixs, ros in mold_plan_d.iterrows():\n",
        "    for values in ros['MOLD DIFF']:\n",
        "      mold_plan_d.loc[ixs,values] = LT_bymold['LEAD TIME (DAYS)'][LT_bymold['MOLD NAME']==values].to_list()\n",
        "  mold_plan_d = mold_plan_d.drop('MOLD DIFF',axis =1)\n",
        "  mold_plan_d = mold_plan_d.fillna(pd.Timedelta(days=0))\n",
        "  mold_plan_d = mold_plan_d.merge(mold_plan_c[['LT DIFF']],left_index=True, right_index=True)\n",
        "  #Based on over lead time matrix to suggest the next priority (if any)\n",
        "  next_priority = {}\n",
        "  for mno in mold_plan_d.index:\n",
        "    machi_mol = {}\n",
        "    for cl in mold_plan_d.drop('LT DIFF',axis=1).columns:\n",
        "      if mold_plan_d.loc[mno, cl] > datetime.timedelta(hours=0):\n",
        "        if mold_plan_d.loc[mno, 'LT DIFF'] > mold_plan_d.loc[mno, cl]:\n",
        "          machi_mol[cl] = mold_plan_d.loc[mno, 'LT DIFF'] - mold_plan_d.loc[mno, cl]\n",
        "    next_priority[mno] = machi_mol\n",
        "  next_priority_ = pd.DataFrame.from_dict(next_priority).dropna(how='all', axis=1)\n",
        "  next_after_priority = next_priority_.idxmin().reset_index()\n",
        "  next_after_priority.columns = ['MACHINE NO.', 'NEXT PRIORITY']\n",
        "  #Get priority molds and next priority molds\n",
        "  mold_plan_e = mold_plan_a[['MACHINE NO.','MOLD NAME']].rename(columns = {'MOLD NAME':'PRIORITY'}).merge(next_after_priority,how= 'left', on='MACHINE NO.')\n",
        "  mold_plan_e = mold_plan_e.fillna('NONE')\n",
        "  mold_plan_e\n",
        "  #Add priority molds and next priority molds into mold plan\n",
        "  modified_mold_plan = mold_plan.merge(mold_plan_e,how = 'left', on = 'MACHINE NO.')\n",
        "  modified_mold_plan[['PRIORITY', 'NEXT PRIORITY']] = modified_mold_plan[['PRIORITY', 'NEXT PRIORITY']].fillna('')\n",
        "\n",
        "  #Add next priority into mold_plan\n",
        "  mold_plan_f = mold_plan_a[['MACHINE NO.','MOLD DIFF']].merge(next_after_priority, how='left',on='MACHINE NO.').fillna('').set_index('NEXT PRIORITY')\n",
        "  mold_plan_f.index.name = None\n",
        "  #show the molds will remain after picking out priority molds for each machine\n",
        "  diffe = []\n",
        "  for idxs, recos in mold_plan_f.iterrows():\n",
        "    diffe.append(list(set(recos['MOLD DIFF']) - set([idxs])))\n",
        "  mold_plan_f['DIFF'] = diffe\n",
        "  mold_plan_f = mold_plan_f.reset_index()\n",
        "  mold_plan_f.columns = ['MOLD NAME',\t'MACHINE NO.',\t'MOLD NAME LIST', 'MOLD DIFF 2']\n",
        "  #Get the break list to recommend other suitable machines\n",
        "  break_list_ = mold_plan_f[['MACHINE NO.','MOLD DIFF 2']].merge(\n",
        "      machine_data[['MACHINE NO.','MODEL']],how='left',on='MACHINE NO.').groupby('MODEL')['MOLD DIFF 2'].sum().reset_index()\n",
        "  fil = []\n",
        "  for dif in break_list_['MOLD DIFF 2'].to_list():\n",
        "    if len(dif) > 0: fil.append(dif)\n",
        "    else: fil.append('')\n",
        "  break_list_['MOLD DIFF 2'] = fil\n",
        "  #suitable machines will be in machine list that has leadtime is under average leadtime\n",
        "  suitable_machine_list = under_leadtime_machines.rename_axis('MACHINE NO.').reset_index().drop(\n",
        "      ['LEAD TIME/MACHINE (DAYS)',\t'TOTAL LEAD TIME (DAYS)',\t'LT DIFF'], axis = 1).merge(\n",
        "      machine_data[['MACHINE NO.', 'MODEL',\t'TONNAGE TON']], how = 'left', on = 'MACHINE NO.').groupby(\n",
        "          'MODEL')['MACHINE NO.'].unique().reset_index()\n",
        "  break_list = break_list_[break_list_['MOLD DIFF 2']!=''].set_index('MODEL')\n",
        "  break_list.index.name = None\n",
        "  #recommend other suitable machine for the break list\n",
        "  break_ls = {}\n",
        "  for models, mold_list in break_list.iterrows():\n",
        "    for mold_names in mold_list['MOLD DIFF 2']:\n",
        "      break_ls[mold_names] = models,LT_bymold['LEAD TIME (DAYS)'][LT_bymold['MOLD NAME']==mold_names].to_list()\n",
        "  break_ls = pd.DataFrame.from_dict(break_ls,orient='index').reset_index()\n",
        "  break_ls.columns = ['MOLD NAME','MODEL','LEAD TIME']\n",
        "  break_ls = break_ls.merge(suitable_machine_list,how='left',on='MODEL')\n",
        "\n",
        "  return modified_mold_plan, break_ls"
      ],
      "metadata": {
        "id": "SC3uOZxyRv3J"
      },
      "execution_count": 11,
      "outputs": []
    },
    {
      "cell_type": "code",
      "source": [
        "#Create a function to update new pending data with new suitable machine information\n",
        "def update_mold_plan_with_new_priority(pending_data, new_priority, mold_plan, production_plan):\n",
        "  new_pending = pending_data.merge(new_priority, how='left', on = 'MOLD NAME').fillna('')\n",
        "  changed = []\n",
        "  for id, change in new_pending.iterrows():\n",
        "    if change['NEW MACHINE NO.'] == '':\n",
        "      changed.append(new_pending['MACHINE NO.'][id])\n",
        "    else:\n",
        "      changed.append(new_pending['NEW MACHINE NO.'][id])\n",
        "  new_pending['CHANGED MACHINE NO.'] = changed\n",
        "  new_pending_b = new_pending.drop(['MACHINE NO.',\t'NEW MACHINE NO.'],axis=1).rename(columns = {'CHANGED MACHINE NO.':'MACHINE NO.'})\n",
        "  new_pending_c = new_pending_b.replace('BREAK', '')\n",
        "  #update new mold plan by new pending data\n",
        "  mold_plan_a = mold_plan.copy().merge(\n",
        "      new_pending_c.groupby('MOLD NAME')['LEAD TIME (DAYS)'].sum().reset_index().merge(\n",
        "          new_pending_c[['MOLD NAME','MACHINE NO.']].drop_duplicates(), how = 'left', on = 'MOLD NAME').sort_values(\n",
        "              by=['LEAD TIME (DAYS)','MACHINE NO.'],ascending = False).groupby('MACHINE NO.')['MOLD NAME'].unique().reset_index(),\n",
        "              how = 'left', on = 'MACHINE NO.')\n",
        "  mold_plan_b = mold_plan_a.merge(new_pending_c.groupby('MACHINE NO.')['LEAD TIME (DAYS)'].sum().reset_index(), how = 'left', on = 'MACHINE NO.')\n",
        "  mold_plan_b = mold_plan_b.rename(columns = {'LEAD TIME (DAYS)':'PENDING LEAD TIME (DAYS)'})\n",
        "  mold_plan_b['TOTAL LEAD TIME (DAYS)'] = mold_plan_b['PRODUCING LEAD TIME (DAYS)'] + mold_plan_b['PENDING LEAD TIME (DAYS)']\n",
        "\n",
        "  #update new production plan by new pending data\n",
        "  new_pending_d = new_pending_c.copy()\n",
        "  new_pending_d['ITEM NAME & PO NO.'] = list(new_pending_d['ITEM NAME']+' ('+new_pending_d['PO NO.']+')')\n",
        "  production_plan_a = production_plan.copy().merge(\n",
        "      new_pending_d.groupby('ITEM NAME')['LEAD TIME (DAYS)'].sum().reset_index().merge(\n",
        "          new_pending_d[['ITEM NAME','MACHINE NO.']].drop_duplicates(), how = 'left', on = 'ITEM NAME').sort_values(\n",
        "              by=['LEAD TIME (DAYS)','MACHINE NO.'],ascending = False).groupby('MACHINE NO.')['ITEM NAME'].unique().reset_index(),\n",
        "              how = 'left', on = 'MACHINE NO.')\n",
        "  production_plan_b = production_plan_a.merge(\n",
        "      new_pending_d.groupby('ITEM NAME & PO NO.')['LEAD TIME (DAYS)'].sum().reset_index().merge(\n",
        "          new_pending_d[['ITEM NAME & PO NO.','MACHINE NO.']].drop_duplicates(), how = 'left', on = 'ITEM NAME & PO NO.').groupby(\n",
        "              'MACHINE NO.')['ITEM NAME & PO NO.'].unique().reset_index(), how = 'left', on = 'MACHINE NO.')\n",
        "  production_plan_b = production_plan_b.merge(new_pending_d.groupby('MACHINE NO.')['LEAD TIME (DAYS)'].sum().reset_index(), how = 'left', on = 'MACHINE NO.')\n",
        "  production_plan_b = production_plan_b.rename(columns = {'LEAD TIME (DAYS)':'PENDING LEAD TIME (DAYS)'})\n",
        "  production_plan_b['TOTAL LEAD TIME (DAYS)'] = production_plan_b['PRODUCING LEAD TIME (DAYS)'] + production_plan_b['PENDING LEAD TIME (DAYS)']\n",
        "  production_plan_b = production_plan_b.drop('ITEM NAME', axis = 1)\n",
        "  return new_pending_d, mold_plan_b, production_plan_b"
      ],
      "metadata": {
        "id": "egmgmiTxnUxI"
      },
      "execution_count": 12,
      "outputs": []
    },
    {
      "cell_type": "code",
      "source": [
        "#Create a function that recommend the best suitable machine for the break list\n",
        "def best_suitable_machine_for_break_list(break_list,under_leadtime_machine):\n",
        "  #Recommend best suitable machine for molds in break list\n",
        "  pri_machines = break_list.copy().set_index('MOLD NAME').drop('MODEL',axis = 1)\n",
        "  #the suitable machine will in machine list that has remain lead time < average lead time\n",
        "  for mold_name, machine in pri_machines.drop('LEAD TIME',axis = 1).iterrows():\n",
        "    for machine_numa in machine['MACHINE NO.']:\n",
        "      if machine_numa in under_leadtime_machine['LT DIFF']:\n",
        "        pri_machines.loc[mold_name,machine_numa] = under_leadtime_machine['LT DIFF'][machine_numa]\n",
        "  pri_machines1 = pri_machines.fillna(pd.Timedelta(seconds=0)).drop(['MACHINE NO.'],axis=1)\n",
        "  leadtimes = []\n",
        "  for leadtime in pri_machines['LEAD TIME']:\n",
        "    leadtimes.append(leadtime[0])\n",
        "  pri_machines1['LEAD TIME'] = leadtimes\n",
        "  pri_machines1['MAX'] = pri_machines1.drop(['LEAD TIME'],axis=1).sum(axis=1)\n",
        "  pri_machines1['DIFF'] = pri_machines1['MAX'] - pri_machines1['LEAD TIME']\n",
        "  #the best suitable machine will in machine that has longest remain lead time\n",
        "  priority = pri_machines1[pri_machines1['DIFF']>=datetime.timedelta(hours = 0)].drop(\n",
        "      ['LEAD TIME','MAX','DIFF'],axis=1).idxmax(axis=1).reset_index().append(\n",
        "          pri_machines1[pri_machines1['DIFF']<datetime.timedelta(hours = 0)].reset_index()[['MOLD NAME']]).fillna('BREAK')\n",
        "  priority.columns = ['MOLD NAME', 'NEW MACHINE NO.']\n",
        "  return priority"
      ],
      "metadata": {
        "id": "S9Zu_Y2XrG_6"
      },
      "execution_count": 13,
      "outputs": []
    },
    {
      "cell_type": "code",
      "source": [
        "#Create a function to recommend mold plan in case there is priority list\n",
        "def recommend_mold_plan_with_priority_list(new_priority_list, pending_data, mold_plan):\n",
        "  default_priority = []\n",
        "  for mn in mold_plan['MOLD NAME']:\n",
        "    if len(mn) >= 1:\n",
        "      default_priority.append(mn[0])\n",
        "    else:\n",
        "      default_priority.append('NONE')\n",
        "\n",
        "  if new_priority_list == []:\n",
        "    new_priority = pd.DataFrame(default_priority, columns=['MOLD NAME']).merge(pending_data[['MOLD NAME','MACHINE NO.']].drop_duplicates(),\n",
        "                                                                                how = 'left', on = 'MOLD NAME').groupby(\n",
        "                                                                                    'MACHINE NO.')['MOLD NAME'].unique().reset_index().rename(\n",
        "                                                                                        columns = {'MOLD NAME': 'NEW PRIORITY MOLD NAME'})\n",
        "\n",
        "  else:\n",
        "    new_priority = pd.DataFrame(new_priority_list, columns=['MOLD NAME']).merge(pending_data[['MOLD NAME','MACHINE NO.']].drop_duplicates(),\n",
        "                                                                                how = 'left', on = 'MOLD NAME').groupby('MACHINE NO.')['MOLD NAME'].unique().reset_index().rename(\n",
        "                                                                                    columns = {'MOLD NAME': 'NEW PRIORITY MOLD NAME'})\n",
        "\n",
        "  priority_mold = pd.DataFrame(default_priority, columns=['MOLD NAME']).merge(pending_data[['MOLD NAME','MACHINE NO.']].drop_duplicates(),\n",
        "                        how = 'left', on = 'MOLD NAME').groupby('MACHINE NO.')['MOLD NAME'].unique().reset_index().rename(\n",
        "                            columns = {'MOLD NAME': 'DEFAULT PRIORITY MOLD NAME'}).merge(new_priority, how = 'left', on = 'MACHINE NO.')\n",
        "  next_molds = []\n",
        "  for ind, row in priority_mold.iterrows():\n",
        "    if len(row['NEW PRIORITY MOLD NAME']) == 0:\n",
        "      next_molds.append([row['DEFAULT PRIORITY MOLD NAME'][0]])\n",
        "    else:\n",
        "      next_molds.append([row['NEW PRIORITY MOLD NAME'][0]])\n",
        "\n",
        "  mold_plan_1 = mold_plan.copy()\n",
        "  mold_plan_1['NEXT MOLD'] = next_molds\n",
        "  diff = []\n",
        "  for idxs, recs in mold_plan_1.iterrows():\n",
        "    if len(recs['MOLD NAME']) >= len(recs['NEXT MOLD']):\n",
        "      if len(recs['NEXT MOLD']) >= 1:\n",
        "        if list(set(recs['MOLD NAME']) - set(recs['NEXT MOLD'])) == []:\n",
        "          diff.append('NONE')\n",
        "        else: diff.append(list(set(recs['MOLD NAME']) - set(recs['NEXT MOLD'])))\n",
        "\n",
        "  mold_plan_1['PENDING LIST'] = diff\n",
        "  new_mold_plan = mold_plan_1.reset_index()[['MACHINE NO.',\t'MODEL',\t'TONNAGE TON',\t'PRODUCING',\t'PRODUCING LEAD TIME (DAYS)',\t\n",
        "                                    'NEXT MOLD',\t'PENDING LIST', 'PENDING LEAD TIME (DAYS)',\t'TOTAL LEAD TIME (DAYS)']]\n",
        "  return new_mold_plan"
      ],
      "metadata": {
        "id": "0-ucsEvsz10c"
      },
      "execution_count": 14,
      "outputs": []
    },
    {
      "cell_type": "code",
      "source": [
        "#Create a function to recommend production plan in case there is priority list\n",
        "def recommend_production_plan_with_priority_list(new_priority_list, pending_data, production_plan):\n",
        "  default_priority = []\n",
        "  for mn in production_plan['ITEM NAME & PO NO.']:\n",
        "    if len(mn) >= 1:\n",
        "      default_priority.append(mn[0])\n",
        "    else:\n",
        "      default_priority.append('NONE')\n",
        "  \n",
        "  if new_priority_list == []:\n",
        "    new_priority = pd.DataFrame(default_priority, columns=['ITEM NAME & PO NO.']).merge(pending_data[['ITEM NAME & PO NO.','MACHINE NO.']],\n",
        "                        how = 'left', on = 'ITEM NAME & PO NO.').groupby('MACHINE NO.')['ITEM NAME & PO NO.'].unique().reset_index().rename(\n",
        "                            columns = {'ITEM NAME & PO NO.': 'NEW PRIORITY ITEM NAME & PO NO.'})\n",
        "\n",
        "  else: new_priority = pd.DataFrame(new_priority_list, columns=['ITEM NAME & PO NO.']).merge(pending_data[['ITEM NAME & PO NO.','MACHINE NO.']],\n",
        "                        how = 'left', on = 'ITEM NAME & PO NO.').groupby('MACHINE NO.')['ITEM NAME & PO NO.'].unique().reset_index().rename(\n",
        "                            columns = {'ITEM NAME & PO NO.': 'NEW PRIORITY ITEM NAME & PO NO.'})\n",
        "  default_priority = []\n",
        "  for mn in production_plan['ITEM NAME & PO NO.']:\n",
        "    if len(mn) >= 1:\n",
        "      default_priority.append(mn[0])\n",
        "    else:\n",
        "      default_priority.append('NONE')\n",
        "  priority_item = pd.DataFrame(default_priority, columns=['ITEM NAME & PO NO.']).merge(pending_data[['ITEM NAME & PO NO.','MACHINE NO.']].drop_duplicates(),\n",
        "                        how = 'left', on = 'ITEM NAME & PO NO.').groupby('MACHINE NO.')['ITEM NAME & PO NO.'].unique().reset_index().rename(\n",
        "                            columns = {'ITEM NAME & PO NO.': 'DEFAULT PRIORITY ITEM NAME & PO NO.'}).merge(new_priority, how = 'left', on = 'MACHINE NO.')\n",
        "  next_items = []\n",
        "  for ind, row in priority_item.iterrows():\n",
        "    if len(row['NEW PRIORITY ITEM NAME & PO NO.']) == 0:\n",
        "      next_items.append([row['DEFAULT PRIORITY ITEM NAME & PO NO.'][0]])\n",
        "    else:\n",
        "      next_items.append([row['NEW PRIORITY ITEM NAME & PO NO.'][0]])\n",
        "\n",
        "  production_plan_1 = production_plan.copy()\n",
        "  production_plan_1['NEXT ITEM NAME & PO NO.'] = next_items\n",
        "  diff = []\n",
        "  for idxs, recs in production_plan_1.iterrows():\n",
        "    if len(recs['ITEM NAME & PO NO.']) >= len(recs['NEXT ITEM NAME & PO NO.']):\n",
        "      if len(recs['NEXT ITEM NAME & PO NO.']) >= 1:\n",
        "        if list(set(recs['ITEM NAME & PO NO.']) - set(recs['NEXT ITEM NAME & PO NO.'])) == []:\n",
        "          diff.append('NONE')\n",
        "        else: diff.append(list(set(recs['ITEM NAME & PO NO.']) - set(recs['NEXT ITEM NAME & PO NO.'])))\n",
        "\n",
        "  production_plan_1['PENDING LIST'] = diff\n",
        "  new_production_plan = production_plan_1.reset_index()[['MACHINE NO.',\t'MODEL',\t'TONNAGE TON',\t'PRODUCING',\t'PRODUCING LEAD TIME (DAYS)',\t\n",
        "                                    'NEXT ITEM NAME & PO NO.',\t'PENDING LIST', 'PENDING LEAD TIME (DAYS)',\t'TOTAL LEAD TIME (DAYS)']]\n",
        "\n",
        "  return new_production_plan"
      ],
      "metadata": {
        "id": "tpAyQgDC7sKk"
      },
      "execution_count": 15,
      "outputs": []
    },
    {
      "cell_type": "code",
      "source": [
        "#Create a function to recommend a item list that need to use 2 molds since over capacity\n",
        "def recommed_item_need_2_molds(over_listime_list, pending_data):\n",
        "  over_listime = over_listime_list['MOLD NAME'][over_listime_list['NEED MORE MOLD FOR THIS ITEM'] == 'YES'].rename_axis(\n",
        "      'MACHINE NO.').reset_index()\n",
        "  over_listime_items = []\n",
        "  for mold_name in over_listime['MOLD NAME']:\n",
        "    over_listime_items.append(mold_name[0])\n",
        "  over_listime_item = over_listime.copy()\n",
        "  over_listime_item['MOLD NAME'] = over_listime_items\n",
        "  over_listime_item_list = over_listime_item.merge(pending_data[['MOLD NAME','MACHINE NO.','ITEM NAME']].drop_duplicates(),\n",
        "                                        how = 'left', on = ['MACHINE NO.','MOLD NAME'])[['ITEM NAME','MOLD NAME']].merge(\n",
        "                                            pending_data.groupby('ITEM NAME')['PO NO.'].unique(), how = 'left', on = 'ITEM NAME').merge(\n",
        "                                                pending_data.groupby('ITEM NAME')['PO QUANTITY'].sum(), how = 'left', on = 'ITEM NAME').merge(\n",
        "                                                    (mold_data.groupby('ITEM NAME')['MOLD NAME'].count().reset_index().rename(\n",
        "                                                        columns = {'MOLD NAME': 'NUMBER OF MOLD'})),how = 'left', on = 'ITEM NAME').rename(\n",
        "                                                            columns = {'MOLD NAME': 'MOLD NAME (PLAN)'})\n",
        "                                                        \n",
        "  over_listime_item_list_fn = over_listime_item_list[over_listime_item_list['NUMBER OF MOLD'] > 1].drop(\n",
        "      'NUMBER OF MOLD', axis = 1).reset_index(drop=True).merge((mold_data.groupby('ITEM NAME')['MOLD STATUS'].unique().reset_index().rename(\n",
        "                                                    columns = {'MOLD STATUS': 'USABLE MOLD LIST'})),how = 'left', on = 'ITEM NAME').merge(\n",
        "                                                        (mold_data.groupby('ITEM NAME')['ACTUAL CAPACITY (ESTIMATED) PCS/HOUR'].max().\n",
        "                                                         reset_index().rename(columns = {'ACTUAL CAPACITY (ESTIMATED) PCS/HOUR': \n",
        "                                                                                         'AVARAGE CAPACITY (PCS/HOUR)'})),\n",
        "                                                        how = 'left', on = 'ITEM NAME') [['ITEM NAME',\t'PO NO.',\t'PO QUANTITY', \n",
        "                                                                                          'MOLD NAME (PLAN)','USABLE MOLD LIST',\n",
        "                                                                                          'AVARAGE CAPACITY (PCS/HOUR)']]\n",
        "  return over_listime_item_list_fn"
      ],
      "metadata": {
        "id": "JXk-timpGjaq"
      },
      "execution_count": 16,
      "outputs": []
    },
    {
      "cell_type": "code",
      "source": [
        "#Create a function to calculate production quantity and plastic quantity for using in 24h for each machine\n",
        "#In case the lead time of producing items less than 1 day\n",
        "def prepare_plastic_for_next_items(production_plan,plastic_data):\n",
        "  need_prepare_plastic = production_plan[production_plan['PRODUCING LEAD TIME (DAYS)']<datetime.timedelta(days=1)][['MACHINE NO.', 'NEXT ITEM NAME & PO NO.']].reset_index(drop=True)\n",
        "  items = []\n",
        "  POs = []\n",
        "  for lis in need_prepare_plastic['NEXT ITEM NAME & PO NO.']:\n",
        "    items.append(lis[0].replace(')','').split(' (')[0])\n",
        "    POs.append(lis[0].replace(')','').split(' (')[1])\n",
        "  need_prepare_plastic['PO NO.'] = POs\n",
        "  need_prepare_plastic['ITEM NAME'] = items\n",
        "  need_prepare_plastic1 = need_prepare_plastic.merge(\n",
        "      final_pending[['PO NO.',\t'ITEM CODE',\t'ITEM NAME', 'MOLD NAME', 'PO QUANTITY']], how= 'left', on = ['PO NO.','ITEM NAME']).merge(\n",
        "          mold_data[['ITEM NAME','MOLD NAME','FULL CAPACITY (ESTIMATED) PCS/HOUR']], how= 'left', on = ['MOLD NAME','ITEM NAME'])\n",
        "  need_prepare_plastic2 = need_prepare_plastic1[['MACHINE NO.','NEXT ITEM NAME & PO NO.', 'PO NO.',\t'ITEM CODE',\t'ITEM NAME',\t'PO QUANTITY','FULL CAPACITY (ESTIMATED) PCS/HOUR']]\n",
        "  plastic_merge = need_prepare_plastic2.merge(plastic_data[['ITEM CODE','MAIN NAME','MAIN QUAN. (KG/10000PCS)', 'COLOR NAME','COLOR QUAN. (KG/10000PCS)', \n",
        "                                                'ADDITION','ADDITON QUAN. (KG/10000PCS)']], how = 'left', on=['ITEM CODE'])\n",
        "  PRO_QUAN = [] #Calculate production quantity and plastic quantity for using in 24h for each machine\n",
        "  for index, row in plastic_merge.iterrows():\n",
        "    if row['PO QUANTITY'] > (row['FULL CAPACITY (ESTIMATED) PCS/HOUR']*24):\n",
        "      PRO_QUAN.append(row['FULL CAPACITY (ESTIMATED) PCS/HOUR']*24)\n",
        "    else:\n",
        "      PRO_QUAN.append(row['PO QUANTITY'])\n",
        "\n",
        "  plastic_merge['PRO QUAN. (PCS/DAY)'] = PRO_QUAN #production quantity\n",
        "  plastic_merge['MAIN QUAN. (KG)'] = plastic_merge['MAIN QUAN. (KG/10000PCS)']/10000*plastic_merge['PRO QUAN. (PCS/DAY)'] #plastic quantity\n",
        "  plastic_merge['COLOR QUAN. (G)'] = plastic_merge['COLOR QUAN. (KG/10000PCS)']*1000/10000*plastic_merge['PRO QUAN. (PCS/DAY)'] #color quantity (if anyplastic_merge['ADDITON QUAN. (G)'] = plastic_merge['ADDITON QUAN. (KG/10000PCS)']*1000/10000*plastic_merge['PRO QUAN. (PCS/DAY)'] #addition quantity (if any)\n",
        "  plastic_merge['ADDITON QUAN. (G)'] = plastic_merge['ADDITON QUAN. (KG/10000PCS)']*1000/10000*plastic_merge['PRO QUAN. (PCS/DAY)'] #addition quantity (if any)\n",
        "  #drop some feature for free space\n",
        "  plastic_merge = plastic_merge.drop(['ADDITON QUAN. (KG/10000PCS)','MAIN QUAN. (KG/10000PCS)','COLOR QUAN. (KG/10000PCS)'],axis = 1) \n",
        "  #Add features from plastic into plastic plan\n",
        "  pending_plastic_plan = need_prepare_plastic.drop(['PO NO.',\t'ITEM NAME'], axis = 1)\n",
        "  #pending_plastic_plan['NEXT ITEM NAME & PO NO.'] = need_prepare_plastic['NEXT ITEM NAME & PO NO.'].to_list() #Item name\n",
        "  pending_plastic_plan['PRO QUAN. (PCS/DAY)'] = plastic_merge['PRO QUAN. (PCS/DAY)'].to_list() \n",
        "  pending_plastic_plan['PLASTIC'] = plastic_merge['MAIN NAME'].to_list() #Main plastic name\n",
        "  pending_plastic_plan['P QUANTITY (KG/DAY)'] = plastic_merge['MAIN QUAN. (KG)'].to_list() #Main plastic quantity\n",
        "  pending_plastic_plan['COLOR'] = plastic_merge['COLOR NAME'].to_list() #Color name\n",
        "  pending_plastic_plan['C QUANTITY (G/DAY)'] = plastic_merge['COLOR QUAN. (G)'].to_list() #Color quantity\n",
        "  pending_plastic_plan['ADDITION'] = plastic_merge['ADDITION'].to_list() #Addition name\n",
        "  pending_plastic_plan['A QUANTITY (G/DAY)'] = plastic_merge['ADDITON QUAN. (G)'].to_list() #Addition quantity\n",
        "  #Fill Nan in ['PLASTIC','COLOR','ADDITION'] by 'NONE'\n",
        "  pending_plastic_plan[['PLASTIC','COLOR','ADDITION']] = pending_plastic_plan[['PLASTIC','COLOR','ADDITION']].fillna('NONE') \n",
        "  #Fill Nan in ['P QUANTITY (KG/DAY)','C QUANTITY (G/DAY)','A QUANTITY (G/DAY)'] by '0'\n",
        "  pending_plastic_plan[['P QUANTITY (KG/DAY)','C QUANTITY (G/DAY)','A QUANTITY (G/DAY)']] = pending_plastic_plan[['P QUANTITY (KG/DAY)','C QUANTITY (G/DAY)','A QUANTITY (G/DAY)']].fillna(0)\n",
        "  #Change type for ['P QUANTITY (KG/DAY)','C QUANTITY (G/DAY)','A QUANTITY (G/DAY)'] to 'int'\n",
        "  pending_plastic_plan = pending_plastic_plan.astype({'P QUANTITY (KG/DAY)':'int','C QUANTITY (G/DAY)':'int','A QUANTITY (G/DAY)':'int'})\n",
        "  return pending_plastic_plan"
      ],
      "metadata": {
        "id": "gLVwGhS5FgN-"
      },
      "execution_count": 17,
      "outputs": []
    },
    {
      "cell_type": "markdown",
      "source": [
        "#MODEL"
      ],
      "metadata": {
        "id": "rqTzoWPNaf_b"
      }
    },
    {
      "cell_type": "code",
      "source": [
        "#Step 1: Get information of producing items, update production information about items and molds that are in progress\n",
        "data_1 = pro_data\n",
        "producing_data, pro_plan_with_producing, mold_plan_with_producing, plastic_plan_with_producing = update_status_producing(data_1, mold_data, machine_data,output_plan, plastic_data)"
      ],
      "metadata": {
        "id": "cZ7q4fpey75Z"
      },
      "execution_count": 18,
      "outputs": []
    },
    {
      "cell_type": "code",
      "source": [
        "#Step 2: \n",
        "#Get information of production history and pending items, recommend suitable machine for each item\n",
        "history, pending_data, pending_data_with_moldA, sui_machine  = best_suitable_machine_based_on_history(data_1,machine_data,mold_data)\n",
        "#Recommend mold plan for pending data (molds used before) - we will use the molds that haves largest capacity\n",
        "mold_plan_with_bestsui_moldA, pending_data_with_bestsui_moldA = update_mold_plan_with_sui_machine(mold_plan_with_producing, sui_machine, pending_data_with_moldA)"
      ],
      "metadata": {
        "id": "yLaCweSk1f0h"
      },
      "execution_count": 19,
      "outputs": []
    },
    {
      "cell_type": "code",
      "source": [
        "#Step 3: \n",
        "#Recommend suitable machines for the items that never produced before based on machine tonnage\n",
        "best_sui_machine_firstime = suitable_machine_based_on_tonnage(pending_data_with_bestsui_moldA, mold_data, mold_plan_with_bestsui_moldA)\n",
        "#Create the best suitable machines list for all items in pending (inclue first time items)\n",
        "all_mold_pending = best_sui_machine_firstime.append(sui_machine)\n",
        "#Recommend mold plan for the pending data (inclue items used and never used before)\n",
        "mold_plan_with_bestsui_all, pending_data_with_bestsui_all = update_mold_plan_with_sui_machine(mold_plan_with_producing, all_mold_pending, pending_data_with_moldA)"
      ],
      "metadata": {
        "id": "InejHZzLB6t9"
      },
      "execution_count": 20,
      "outputs": []
    },
    {
      "cell_type": "code",
      "source": [
        "#Step 4:\n",
        "#Check if the machines will be over-capacity based on machine mode, machine tonnage, average leadtime of each machine after we recommended the best suitable for each item \n",
        "check_over_model, check_over_tonnage, check_over_average_leadtime, over_average_leadtime, under_average_leadtime = check_over_lead_time(mold_plan_with_bestsui_all)"
      ],
      "metadata": {
        "id": "QU7-SIryHdwg"
      },
      "execution_count": 21,
      "outputs": []
    },
    {
      "cell_type": "code",
      "source": [
        "#Step 5: \n",
        "#For the machines that be over-average-lead time, we will recommend the new mold plan with the best suitable items for these machines\n",
        "#And get items list that be not suitable for these machines, so that we can recommend other suitable machines for these items\n",
        "modified_mold_plan, break_list = modify_plan_for_OC_machines(pending_data_with_bestsui_all,check_over_average_leadtime,mold_plan_with_producing,under_average_leadtime)\n",
        "#Recommend the best suitable machine for the break list\n",
        "new_priority = best_suitable_machine_for_break_list(break_list,under_average_leadtime)\n",
        "#Update new pending data with new suitable machine information\n",
        "new_pending, new_mold_plan, new_pro_plan = update_mold_plan_with_new_priority(pending_data_with_bestsui_all, new_priority, mold_plan_with_producing, pro_plan_with_producing)\n",
        "#Recommend the best suitable machine for the break list\n",
        "new_best_sui_machine = suitable_machine_based_on_tonnage(new_pending, mold_data, new_mold_plan)\n",
        "#Update new pending data with new suitable machine information\n",
        "final_pending, final_mold_plan, final_pro_plan = update_mold_plan_with_new_priority(\n",
        "    new_pending, new_best_sui_machine.rename(columns = {'MACHINE NO.':'NEW MACHINE NO.'}), mold_plan_with_producing, pro_plan_with_producing)\n",
        "#Check if the machines will be over-capacity based on machine mode, machine tonnage, average leadtime of each machine after we recommended the best suitable for each item \n",
        "final_check_over_model, final_check_over_tonnage, final_check_over_leadtime, final_over_leadtime, final_under_leadtime = check_over_lead_time(final_mold_plan)\n",
        "#Recommend mold plan in case there is priority list \n",
        "priority_mold_list = []\n",
        "new_mold_plan_with_priority = recommend_mold_plan_with_priority_list(priority_mold_list, final_pending, final_mold_plan)\n",
        "#Recommend production plan in case there is priority list\n",
        "priority_item_list = []\n",
        "new_production_plan_with_priority = recommend_production_plan_with_priority_list(priority_item_list, final_pending, final_pro_plan)\n",
        "#Recommend a item list that need to use 2 molds since over capacity\n",
        "need_2_molds_list = recommed_item_need_2_molds(final_over_leadtime, final_pending)\n",
        "#Calculate production quantity and plastic quantity for using in 24h for each machine\n",
        "#In case the lead time of producing items less than 1 day\n",
        "pending_plastic_plan = prepare_plastic_for_next_items(new_production_plan_with_priority,plastic_data)"
      ],
      "metadata": {
        "colab": {
          "base_uri": "https://localhost:8080/"
        },
        "id": "w45dagjayHa5",
        "outputId": "51ac2e09-367b-43cd-b328-ef78530db751"
      },
      "execution_count": 22,
      "outputs": [
        {
          "output_type": "stream",
          "name": "stderr",
          "text": [
            "/usr/local/lib/python3.7/dist-packages/pandas/core/indexing.py:1684: PerformanceWarning: DataFrame is highly fragmented.  This is usually the result of calling `frame.insert` many times, which has poor performance.  Consider joining all columns at once using pd.concat(axis=1) instead.  To get a de-fragmented frame, use `newframe = frame.copy()`\n",
            "  self.obj[key] = infer_fill_value(value)\n"
          ]
        }
      ]
    },
    {
      "cell_type": "markdown",
      "source": [
        "#EXPORT THE RESULTS"
      ],
      "metadata": {
        "id": "hh0yfOAY0ttL"
      }
    },
    {
      "cell_type": "code",
      "source": [
        "#Use to_excel function and specify the sheet_name and index, to store the dataframe in specified sheet\n",
        "with pd.ExcelWriter(\"/content/drive/MyDrive/Data science/Mine/Recommendation-Production Planning/RESUTLS/results.xlsx\") as writer:\n",
        "  producing_data.to_excel(writer, sheet_name=\"Producing_data\", index=False)\n",
        "  history.to_excel(writer, sheet_name=\"History_data\", index=False)\n",
        "  pending_data.to_excel(writer, sheet_name=\"Pending_data\", index=False)\n",
        "  final_pending.to_excel(writer, sheet_name=\"Final_pending\", index=False)\n",
        "  new_mold_plan_with_priority.to_excel(writer, sheet_name=\"Final_mold_plan\", index=False)\n",
        "  new_production_plan_with_priority.to_excel(writer, sheet_name=\"Final_production_plan\", index=False)\n",
        "  plastic_plan_with_producing.to_excel(writer, sheet_name=\"Producing_plastic_plan\", index=False)\n",
        "  pending_plastic_plan.to_excel(writer, sheet_name=\"Pending_plastic_plan\", index=False)\n",
        "  need_2_molds_list.to_excel(writer, sheet_name=\"Require_2_molds_list\", index=False)"
      ],
      "metadata": {
        "id": "CMzTm2d02kzN"
      },
      "execution_count": 23,
      "outputs": []
    },
    {
      "cell_type": "code",
      "source": [
        "#from google.colab import files\n",
        "#files.download('\"/content/drive/MyDrive/Data science/Recommendation-Production Planning/RESUTLS/results.xlsx\"')"
      ],
      "metadata": {
        "id": "mUymJaSN0zGx"
      },
      "execution_count": 24,
      "outputs": []
    }
  ]
}